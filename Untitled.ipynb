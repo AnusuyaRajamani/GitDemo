{
 "cells": [
  {
   "cell_type": "code",
   "execution_count": null,
   "id": "adc8f46f-f056-43a4-9049-04dd81bc617a",
   "metadata": {},
   "outputs": [],
   "source": [
    "x = int(input(\"enter the number for a :\" ))\n",
    "y = int(input(\"enter number for b:\"))\n",
    "a = print(int(x/y))\n",
    "b = print(float(x//y))\n"
   ]
  },
  {
   "cell_type": "code",
   "execution_count": null,
   "id": "769f1177-5257-4c3f-a01a-55e22ed81b8d",
   "metadata": {},
   "outputs": [],
   "source": []
  }
 ],
 "metadata": {
  "kernelspec": {
   "display_name": "Python 3",
   "language": "python",
   "name": "python3"
  },
  "language_info": {
   "codemirror_mode": {
    "name": "ipython",
    "version": 3
   },
   "file_extension": ".py",
   "mimetype": "text/x-python",
   "name": "python",
   "nbconvert_exporter": "python",
   "pygments_lexer": "ipython3",
   "version": "3.13.1"
  }
 },
 "nbformat": 4,
 "nbformat_minor": 5
}
